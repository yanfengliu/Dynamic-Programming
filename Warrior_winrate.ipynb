{
 "cells": [
  {
   "cell_type": "markdown",
   "metadata": {
    "collapsed": true
   },
   "source": [
    "After the Golden State Warriors acquired former MVP Kevin Durant in 2016, some NBA fans speculated that the Warriors would not lose consecutive games at any point of the season. If you wanted to determine the probability that this prediction would be true (i.e., that the Warriors would never lose consecutive games at any point during an 82-game season), what is one approach (or a few approaches) you may use to solve the problem? What answer do you get? Exact answers are of course welcome, but approaches that lead to approximations (and those approximations) are fine, too (please specify the precision of your estimate). Assume the Warriors have an 80% chance of winning each individual game.\n",
    "\n",
    "---"
   ]
  },
  {
   "cell_type": "markdown",
   "metadata": {},
   "source": [
    "To be able to complete 82 games without losing 2 games in a row, the Warriors need to have only 0 or 1 losing streak at any time during the season. Let $P(0, k)$ and $P(1, k)$ be the probility of having 0 and 1losing streak, respectively, after $k$ completed games, and $r$ be the win rate for Warriors. Then: \n",
    "\n",
    "\\begin{align}\n",
    "P(0, k+1) &= r \\cdot (P(0, k) + P(1, k)) \\\\\n",
    "P(1, k+1) &= (1 - r) \\cdot P(0, k)\n",
    "\\end{align}\n",
    "\n",
    "To start the culculation, we also need the base condition, which is\n",
    "\n",
    "\\begin{align}\n",
    "P(1, 2) &= r \\cdot (1-r) \\\\\n",
    "P(0, 2) &= r^2\n",
    "\\end{align}\n",
    "\n",
    "Then the chance of Warriors not losing 2 games in a row in 82 games would be $P(0, 82) + P(1, 82)$. Note that $P(2, k)$ is not considered because a 2-losing streak anywhere would automatically result in challenge failure. \n",
    "\n",
    "This approach is easily scalable to any number of total games and number of losing streak. Simply create a matrix with width of number of total games and height of numer of losing streak. "
   ]
  },
  {
   "cell_type": "code",
   "execution_count": 4,
   "metadata": {},
   "outputs": [
    {
     "name": "stdout",
     "output_type": "stream",
     "text": [
      "The probability of the Warriors never losing consecutive games is 5.881686%\n"
     ]
    }
   ],
   "source": [
    "import numpy as np\n",
    "mat = np.zeros((3, 81))\n",
    "win_rate = 0.8\n",
    "mat[0][0] = win_rate * win_rate + (1 - win_rate) * win_rate\n",
    "mat[1][0] = win_rate * (1 - win_rate)\n",
    "\n",
    "for i in range(1, 81):\n",
    "    p_0_k = mat[0][i-1]\n",
    "    p_1_k = mat[1][i-1]\n",
    "    mat[0][i] = win_rate * (p_0_k + p_1_k)\n",
    "    mat[1][i] = (1 - win_rate) * p_0_k\n",
    "    \n",
    "print('The probability of the Warriors never losing consecutive games is %f%%' % (100*(mat[0][i] + mat[1][i])))"
   ]
  },
  {
   "cell_type": "code",
   "execution_count": null,
   "metadata": {
    "collapsed": true
   },
   "outputs": [],
   "source": []
  }
 ],
 "metadata": {
  "kernelspec": {
   "display_name": "Python 3",
   "language": "python",
   "name": "python3"
  },
  "language_info": {
   "codemirror_mode": {
    "name": "ipython",
    "version": 3
   },
   "file_extension": ".py",
   "mimetype": "text/x-python",
   "name": "python",
   "nbconvert_exporter": "python",
   "pygments_lexer": "ipython3",
   "version": "3.6.1"
  }
 },
 "nbformat": 4,
 "nbformat_minor": 2
}
